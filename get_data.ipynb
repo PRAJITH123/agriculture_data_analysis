{
 "cells": [
  {
   "cell_type": "code",
   "execution_count": 1,
   "metadata": {},
   "outputs": [
    {
     "name": "stdout",
     "output_type": "stream",
     "text": [
      "Defaulting to user installation because normal site-packages is not writeable\n",
      "Requirement already satisfied: xlrd in /home/prajith_v/.local/lib/python3.6/site-packages (1.2.0)\n"
     ]
    }
   ],
   "source": [
    "import pandas as pd\n",
    "!pip3 install xlrd"
   ]
  },
  {
   "cell_type": "code",
   "execution_count": 2,
   "metadata": {},
   "outputs": [],
   "source": [
    "data = pd.read_excel(\"/home/prajith_v/coding/jupyter_notebook/agriculture/high_data.xlsx\")"
   ]
  },
  {
   "cell_type": "code",
   "execution_count": 3,
   "metadata": {},
   "outputs": [
    {
     "data": {
      "text/html": [
       "<div>\n",
       "<style scoped>\n",
       "    .dataframe tbody tr th:only-of-type {\n",
       "        vertical-align: middle;\n",
       "    }\n",
       "\n",
       "    .dataframe tbody tr th {\n",
       "        vertical-align: top;\n",
       "    }\n",
       "\n",
       "    .dataframe thead th {\n",
       "        text-align: right;\n",
       "    }\n",
       "</style>\n",
       "<table border=\"1\" class=\"dataframe\">\n",
       "  <thead>\n",
       "    <tr style=\"text-align: right;\">\n",
       "      <th></th>\n",
       "      <th>jan_high</th>\n",
       "      <th>feb_high</th>\n",
       "      <th>mar_high</th>\n",
       "      <th>apr_high</th>\n",
       "      <th>may_high</th>\n",
       "      <th>june_high</th>\n",
       "      <th>july_high</th>\n",
       "      <th>aug_high</th>\n",
       "      <th>sep_high</th>\n",
       "      <th>oct_high</th>\n",
       "      <th>nov_high</th>\n",
       "      <th>dec_high</th>\n",
       "    </tr>\n",
       "  </thead>\n",
       "  <tbody>\n",
       "    <tr>\n",
       "      <th>2017</th>\n",
       "      <td>[[(\"Lady's Finger\", 35)], [('Beans(French)', 3...</td>\n",
       "      <td>[[(\"Lady's Finger\", 41.5)], [('Beans(French)',...</td>\n",
       "      <td>[[('Beans(French)', 49.98)], [('Beans(Local)',...</td>\n",
       "      <td>[[('Beans(French)', 80.83)], [('Beans(Local)',...</td>\n",
       "      <td>[[('Beans(French)', 91.37)], [('Beans(Local)',...</td>\n",
       "      <td>[[('Beans(French)', 69.29)], [('Carrot(Local)'...</td>\n",
       "      <td>[[('Tomato (Local)', 51.44)], [('Tomato (Hybri...</td>\n",
       "      <td>[[('Beans(French)', 47.63)], [('Brinjal (Bottl...</td>\n",
       "      <td>[[('Beans(French)', 47.68)], [('Brinjal (Bottl...</td>\n",
       "      <td>[[('Beans(French)', 57.81)], [('Capsicum (Gree...</td>\n",
       "      <td>[[('Carrot(Local)', 59.98)], [('Capsicum (Gree...</td>\n",
       "      <td>[[('Carrot(Local)', 48.35)], [('Beans(French)'...</td>\n",
       "    </tr>\n",
       "    <tr>\n",
       "      <th>2018</th>\n",
       "      <td>[[('Beans (Cow Pea)', 20.15)], [('Capsicum (Gr...</td>\n",
       "      <td>[[('Beans(French)', 17.41)], [('Ridge Gourd', ...</td>\n",
       "      <td>[[('Beans(French)', 25.16)], [('Ridge Gourd', ...</td>\n",
       "      <td>[[('Beans(French)', 31.32)], [('Beans (Cow Pea...</td>\n",
       "      <td>[[('Beans(French)', 48.35)], [('Beans(Local)',...</td>\n",
       "      <td>[[('Beans(French)', 52.1)], [('Chilli(Bajji)',...</td>\n",
       "      <td>[[('Chilli(Bajji)', 52.86)], [('Capsicum (Gree...</td>\n",
       "      <td>[[('Carrot(Local)', 40)], [('Chilli(Bajji)', 3...</td>\n",
       "      <td>[[('Carrot(Local)', 35)], [('Brinjal (Bottle B...</td>\n",
       "      <td>[[('Carrot(Local)', 32.79)], [('Beans(French)'...</td>\n",
       "      <td>[[('Carrot(Local)', 34.63)], [('Beans(French)'...</td>\n",
       "      <td>[[('Carrot(Local)', 29.32)], [('Bitter Gourd',...</td>\n",
       "    </tr>\n",
       "    <tr>\n",
       "      <th>2019</th>\n",
       "      <td>[[('Bitter Gourd', 36.38)], [('Brinjal (Bottle...</td>\n",
       "      <td>[[('Ridge Gourd', 32.77)], [('Bitter Gourd', 3...</td>\n",
       "      <td>[[('Beans(French)', 56.88)], [('Beans(Local)',...</td>\n",
       "      <td>[[('Beans(French)', 77.51)], [('Beans(Local)',...</td>\n",
       "      <td>[[('Beans(French)', 82.59)], [('Beans(Local)',...</td>\n",
       "      <td>[[('Beans(French)', 87.58)], [('Beans(Local)',...</td>\n",
       "      <td>NaN</td>\n",
       "      <td>NaN</td>\n",
       "      <td>NaN</td>\n",
       "      <td>NaN</td>\n",
       "      <td>NaN</td>\n",
       "      <td>NaN</td>\n",
       "    </tr>\n",
       "  </tbody>\n",
       "</table>\n",
       "</div>"
      ],
      "text/plain": [
       "                                               jan_high  \\\n",
       "2017  [[(\"Lady's Finger\", 35)], [('Beans(French)', 3...   \n",
       "2018  [[('Beans (Cow Pea)', 20.15)], [('Capsicum (Gr...   \n",
       "2019  [[('Bitter Gourd', 36.38)], [('Brinjal (Bottle...   \n",
       "\n",
       "                                               feb_high  \\\n",
       "2017  [[(\"Lady's Finger\", 41.5)], [('Beans(French)',...   \n",
       "2018  [[('Beans(French)', 17.41)], [('Ridge Gourd', ...   \n",
       "2019  [[('Ridge Gourd', 32.77)], [('Bitter Gourd', 3...   \n",
       "\n",
       "                                               mar_high  \\\n",
       "2017  [[('Beans(French)', 49.98)], [('Beans(Local)',...   \n",
       "2018  [[('Beans(French)', 25.16)], [('Ridge Gourd', ...   \n",
       "2019  [[('Beans(French)', 56.88)], [('Beans(Local)',...   \n",
       "\n",
       "                                               apr_high  \\\n",
       "2017  [[('Beans(French)', 80.83)], [('Beans(Local)',...   \n",
       "2018  [[('Beans(French)', 31.32)], [('Beans (Cow Pea...   \n",
       "2019  [[('Beans(French)', 77.51)], [('Beans(Local)',...   \n",
       "\n",
       "                                               may_high  \\\n",
       "2017  [[('Beans(French)', 91.37)], [('Beans(Local)',...   \n",
       "2018  [[('Beans(French)', 48.35)], [('Beans(Local)',...   \n",
       "2019  [[('Beans(French)', 82.59)], [('Beans(Local)',...   \n",
       "\n",
       "                                              june_high  \\\n",
       "2017  [[('Beans(French)', 69.29)], [('Carrot(Local)'...   \n",
       "2018  [[('Beans(French)', 52.1)], [('Chilli(Bajji)',...   \n",
       "2019  [[('Beans(French)', 87.58)], [('Beans(Local)',...   \n",
       "\n",
       "                                              july_high  \\\n",
       "2017  [[('Tomato (Local)', 51.44)], [('Tomato (Hybri...   \n",
       "2018  [[('Chilli(Bajji)', 52.86)], [('Capsicum (Gree...   \n",
       "2019                                                NaN   \n",
       "\n",
       "                                               aug_high  \\\n",
       "2017  [[('Beans(French)', 47.63)], [('Brinjal (Bottl...   \n",
       "2018  [[('Carrot(Local)', 40)], [('Chilli(Bajji)', 3...   \n",
       "2019                                                NaN   \n",
       "\n",
       "                                               sep_high  \\\n",
       "2017  [[('Beans(French)', 47.68)], [('Brinjal (Bottl...   \n",
       "2018  [[('Carrot(Local)', 35)], [('Brinjal (Bottle B...   \n",
       "2019                                                NaN   \n",
       "\n",
       "                                               oct_high  \\\n",
       "2017  [[('Beans(French)', 57.81)], [('Capsicum (Gree...   \n",
       "2018  [[('Carrot(Local)', 32.79)], [('Beans(French)'...   \n",
       "2019                                                NaN   \n",
       "\n",
       "                                               nov_high  \\\n",
       "2017  [[('Carrot(Local)', 59.98)], [('Capsicum (Gree...   \n",
       "2018  [[('Carrot(Local)', 34.63)], [('Beans(French)'...   \n",
       "2019                                                NaN   \n",
       "\n",
       "                                               dec_high  \n",
       "2017  [[('Carrot(Local)', 48.35)], [('Beans(French)'...  \n",
       "2018  [[('Carrot(Local)', 29.32)], [('Bitter Gourd',...  \n",
       "2019                                                NaN  "
      ]
     },
     "execution_count": 3,
     "metadata": {},
     "output_type": "execute_result"
    }
   ],
   "source": [
    "data"
   ]
  },
  {
   "cell_type": "code",
   "execution_count": 4,
   "metadata": {},
   "outputs": [
    {
     "data": {
      "text/plain": [
       "2017    [[(\"Lady's Finger\", 35)], [('Beans(French)', 3...\n",
       "2018    [[('Beans (Cow Pea)', 20.15)], [('Capsicum (Gr...\n",
       "2019    [[('Bitter Gourd', 36.38)], [('Brinjal (Bottle...\n",
       "Name: jan_high, dtype: object"
      ]
     },
     "execution_count": 4,
     "metadata": {},
     "output_type": "execute_result"
    }
   ],
   "source": [
    "data[\"jan_high\"]"
   ]
  },
  {
   "cell_type": "code",
   "execution_count": null,
   "metadata": {},
   "outputs": [],
   "source": []
  },
  {
   "cell_type": "code",
   "execution_count": 47,
   "metadata": {},
   "outputs": [
    {
     "data": {
      "text/plain": [
       "array([\"[[('Carrot(Local)', 48.35)], [('Beans(French)', 26.46)], [('Capsicum (Green)', 25.25)], [('Beans (Cow Pea)', 24.5)], [('Beetroot', 17.87)]]\",\n",
       "       \"[[('Carrot(Local)', 29.32)], [('Bitter Gourd', 23.17)], [('Ridge Gourd', 21.55)], [('Beans(French)', 21.44)], [('Beans(Local)', 19.48)]]\",\n",
       "       nan], dtype=object)"
      ]
     },
     "execution_count": 47,
     "metadata": {},
     "output_type": "execute_result"
    }
   ],
   "source": [
    "x = data[\"dec_high\"].values[:]\n",
    "x"
   ]
  },
  {
   "cell_type": "code",
   "execution_count": 22,
   "metadata": {},
   "outputs": [
    {
     "data": {
      "text/plain": [
       "['[[(\"Lady',\n",
       " 's Finger\", 35)], [(',\n",
       " 'Beans(French)',\n",
       " ', 32.67)], [(',\n",
       " 'Beans (Cow Pea)',\n",
       " ', 31.56)], [(',\n",
       " 'Bitter Gourd',\n",
       " ', 28)], [(',\n",
       " 'Beans(Local)',\n",
       " ', 27.05)]]']"
      ]
     },
     "execution_count": 22,
     "metadata": {},
     "output_type": "execute_result"
    }
   ],
   "source": [
    "l = x[0]\n",
    "m = l.split(sep=\"'\")\n",
    "m"
   ]
  },
  {
   "cell_type": "code",
   "execution_count": 6,
   "metadata": {},
   "outputs": [
    {
     "data": {
      "text/plain": [
       "'[[(\"Lady\\'s Finger\", 35)], [(\\'Beans(French)\\', 32.67)], [(\\'Beans (Cow Pea)\\', 31.56)], [(\\'Bitter Gourd\\', 28)], [(\\'Beans(Local)\\', 27.05)]]'"
      ]
     },
     "execution_count": 6,
     "metadata": {},
     "output_type": "execute_result"
    }
   ],
   "source": [
    "data.loc[2017,\"jan_\"]"
   ]
  },
  {
   "cell_type": "code",
   "execution_count": 7,
   "metadata": {},
   "outputs": [
    {
     "data": {
      "text/plain": [
       "\"[[('Beans (Cow Pea)', 20.15)], [('Capsicum (Green)', 16.81)], [('Chilli(Bajji)', 16.59)], [('Brinjal (Bottle Black)', 15.22)], [('Brinjal (Long Green)', 14.16)]]\""
      ]
     },
     "execution_count": 7,
     "metadata": {},
     "output_type": "execute_result"
    }
   ],
   "source": [
    "data.loc[2018,\"jan_high\"]"
   ]
  },
  {
   "cell_type": "code",
   "execution_count": 8,
   "metadata": {},
   "outputs": [
    {
     "data": {
      "text/plain": [
       "\"[[('Bitter Gourd', 36.38)], [('Brinjal (Bottle Black)', 35.81)], [('Ridge Gourd', 34.58)], [('Capsicum (Green)', 33.07)], [('Brinjal (Long Green)', 26.42)]]\""
      ]
     },
     "execution_count": 8,
     "metadata": {},
     "output_type": "execute_result"
    }
   ],
   "source": [
    "data.loc[2019,\"jan_high\"]"
   ]
  },
  {
   "cell_type": "code",
   "execution_count": 24,
   "metadata": {},
   "outputs": [],
   "source": [
    "data1 = pd.read_excel(\"/home/prajith_v/coding/jupyter_notebook/agriculture/low_data.xlsx\")"
   ]
  },
  {
   "cell_type": "code",
   "execution_count": 46,
   "metadata": {},
   "outputs": [
    {
     "data": {
      "text/plain": [
       "array([\"[[('Cucumber(Indian)', 5.53)], [('Raddish', 7.42)], [('Chow Chow', 7.67)], [('Tomato (Local)', 7.94)], [('Knol Khol', 7.99)]]\",\n",
       "       \"[[('Cabbage (Local)', 5.41)], [('Knol Khol', 7.81)], [('Snake gourd', 8.9)], [('Tomato (Local)', 9.06)], [('Chow Chow', 9.29)]]\",\n",
       "       nan], dtype=object)"
      ]
     },
     "execution_count": 46,
     "metadata": {},
     "output_type": "execute_result"
    }
   ],
   "source": [
    "data1[\"dec_low\"].values[:]"
   ]
  },
  {
   "cell_type": "code",
   "execution_count": null,
   "metadata": {},
   "outputs": [],
   "source": []
  }
 ],
 "metadata": {
  "kernelspec": {
   "display_name": "Python 3",
   "language": "python",
   "name": "python3"
  },
  "language_info": {
   "codemirror_mode": {
    "name": "ipython",
    "version": 3
   },
   "file_extension": ".py",
   "mimetype": "text/x-python",
   "name": "python",
   "nbconvert_exporter": "python",
   "pygments_lexer": "ipython3",
   "version": "3.6.9"
  }
 },
 "nbformat": 4,
 "nbformat_minor": 4
}
